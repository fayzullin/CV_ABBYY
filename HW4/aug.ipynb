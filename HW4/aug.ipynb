{
 "cells": [
  {
   "cell_type": "code",
   "execution_count": 365,
   "metadata": {},
   "outputs": [],
   "source": [
    "import os\n",
    "import cv2\n",
    "import numpy as np\n",
    "from random import choice"
   ]
  },
  {
   "cell_type": "code",
   "execution_count": 427,
   "metadata": {},
   "outputs": [],
   "source": [
    "PAPER_BG_COLOR = [170, 180, 200] # old paper color in BGR format\n",
    "BG_SIGMA = 1\n",
    "CHANNELS = 3\n",
    "MAX_CH_VAL = 255\n",
    "BG_MASK_VAL = -1"
   ]
  },
  {
   "cell_type": "code",
   "execution_count": 428,
   "metadata": {},
   "outputs": [],
   "source": [
    "# paper\n",
    "\n",
    "def blank_image(height, width, bg_color=PAPER_BG_COLOR):\n",
    "    img = np.zeros((height, width, CHANNELS), dtype=np.uint8)\n",
    "    img[:, :] = bg_color\n",
    "    return img\n",
    "\n",
    "\n",
    "def add_noise(img, sigma=BG_SIGMA):\n",
    "    height, width, _ = img.shape\n",
    "    n = noise(height, width, sigma=sigma)\n",
    "    img = img + n\n",
    "    return img.clip(0, MAX_CH_VAL)\n",
    "\n",
    "\n",
    "def noise(height, width, ratio=1, sigma=BG_SIGMA):\n",
    "    mean = 0\n",
    "    h = int(height / ratio)\n",
    "    w = int(width / ratio)\n",
    "\n",
    "    result = np.random.normal(mean, sigma, (w, h, CHANNELS))\n",
    "    if ratio > 1:\n",
    "        result = cv2.resize(result, dsize=(width, height), interpolation=cv2.INTER_LINEAR)\n",
    "    return result.reshape((width, height, CHANNELS))\n",
    "\n",
    "\n",
    "def texture(image, sigma=BG_SIGMA, turbulence=2):\n",
    "    result = image.astype(float)\n",
    "    height, width, _ = image.shape\n",
    "    ratio = width\n",
    "    while not ratio == 1:\n",
    "        result += noise(height, width, ratio, sigma=sigma)\n",
    "        ratio = (ratio // turbulence) or 1\n",
    "    cut = np.clip(result, 0, MAX_CH_VAL)\n",
    "    return cut.astype(np.uint8)\n",
    "\n",
    "def get_paper(height, width, bg_color):\n",
    "    return add_noise(texture(blank_image(height, width, bg_color)))\n",
    "\n",
    "def get_paper_like(image, bg_color):\n",
    "    return get_paper(image.shape[0], image.shape[1], bg_color)\n",
    "\n",
    "def put_image_on_paper(img, paper):\n",
    "    mask = np.zeros_like(img)\n",
    "    mask[:, :, 0] = mask[:, :, 1] = mask[:, :, 2] = (img[:, :, 0] >= MAX_CH_VAL) * (img[:, :, 1] >= MAX_CH_VAL) * (img[:, :, 2] >= MAX_CH_VAL)\n",
    "    mask = mask.astype(bool)\n",
    "    return paper[:img.shape[0], :img.shape[1]] * mask + img * ~mask\n",
    "\n",
    "PAPER = get_paper(4096, 4096, PAPER_BG_COLOR)"
   ]
  },
  {
   "cell_type": "code",
   "execution_count": 429,
   "metadata": {},
   "outputs": [],
   "source": [
    "SHIFTED_ROWS_SHARE = 0.01\n",
    "SHIFT_SCALE = 0.5\n",
    "\n",
    "# print defect\n",
    "def print_defect(img, scale=SHIFT_SCALE, shifted_share=SHIFTED_ROWS_SHARE):\n",
    "    shifted_rows = np.random.binomial(1, shifted_share, img.shape[0])\n",
    "    for i in range(img.shape[0]):\n",
    "        max_shift = img.shape[1] * scale\n",
    "        if shifted_rows[i] == 1:\n",
    "            shift = np.random.randint(-max_shift, max_shift)\n",
    "            new_row = np.zeros_like(img[i])\n",
    "            if shift > 0:\n",
    "                new_row[shift:] = img[i][:-shift]\n",
    "            elif shift < 0:\n",
    "                new_row[:shift] = img[i][-shift:]\n",
    "            else:\n",
    "                new_row = img[i]\n",
    "            img[i] = new_row\n",
    "    return img"
   ]
  },
  {
   "cell_type": "code",
   "execution_count": 430,
   "metadata": {},
   "outputs": [],
   "source": [
    "def channel_shift(img, value=MAX_CH_VAL/5):\n",
    "    img = img + value\n",
    "    img = np.clip(img, 0, MAX_CH_VAL)\n",
    "    img = img.astype(np.uint8)\n",
    "    return img\n",
    "\n",
    "def rotation(img, angle=45):\n",
    "    h, w = img.shape[:2]\n",
    "    M = cv2.getRotationMatrix2D((int(w/2), int(h/2)), angle, 1)\n",
    "    img = cv2.warpAffine(img, M, (w, h), borderValue = (BG_MASK_VAL, BG_MASK_VAL, BG_MASK_VAL))\n",
    "    return img\n",
    "\n",
    "def translation(img, h_shift, w_shift):\n",
    "    h, w = img.shape[:2]\n",
    "    M = np.array([[1, 0, w_shift], [0, 1, h_shift]], dtype=np.float32)\n",
    "\n",
    "    img = cv2.warpAffine(img, M, (w, h), borderValue = (BG_MASK_VAL, BG_MASK_VAL, BG_MASK_VAL))\n",
    "    return img\n",
    "\n",
    "def blur(img, shape = 10):\n",
    "    return cv2.blur(img, (shape, shape))\n",
    "\n",
    "def resize(img, scale_percent = 100):\n",
    "    width = int(img.shape[1] * scale_percent / 100)\n",
    "    height = int(img.shape[0] * scale_percent / 100)\n",
    "    dim = (width, height)\n",
    "    \n",
    "    img = cv2.resize(img, dim, interpolation = cv2.INTER_AREA)\n",
    "    return img"
   ]
  },
  {
   "cell_type": "code",
   "execution_count": 438,
   "metadata": {},
   "outputs": [],
   "source": [
    "# bg_coef gives transparency effect and an effect of paper pressed onto the background, especially for rough backgrounds\n",
    "def put_image_on_background(img, bg, bg_coef=0):\n",
    "    mask = np.zeros_like(img)\n",
    "    mask[:, :, 0] = mask[:, :, 1] = mask[:, :, 2] = (img[:, :, 0] == BG_MASK_VAL) * (img[:, :, 1] == BG_MASK_VAL) * (img[:, :, 2] == BG_MASK_VAL)\n",
    "    mask = mask.astype(bool)\n",
    "    return bg * mask + img * ~mask * ((1 - bg_coef) +  bg_coef * bg / MAX_CH_VAL)\n",
    "\n",
    "def make_augmentations(img, bg, bg_scale=200, img_scale=50, channel_shift_val=10, \n",
    "                       rot_angle=45, h_shift=500, w_shift=500, \n",
    "                       img_start_coords=[500, 500], blur_shape_val=5, bg_coef=0.05):\n",
    "    bg = resize(bg, bg_scale)\n",
    "    tmp_img = resize(img, img_scale)\n",
    "    tmp_img = channel_shift(print_defect(put_image_on_paper(tmp_img, PAPER)), channel_shift_val)\n",
    "    bg_mask_with_img = np.ones_like(bg) * BG_MASK_VAL\n",
    "    bg_mask_with_img[img_start_coords[0]:img_start_coords[1] + tmp_img.shape[0], img_start_coords[1]:img_start_coords[1] + tmp_img.shape[1]] = tmp_img\n",
    "    result = translation(bg_mask_with_img, h_shift, w_shift)\n",
    "    result = rotation(result, rot_angle)\n",
    "    result = blur(result, blur_shape_val)\n",
    "    return put_image_on_background(result, bg, bg_coef)"
   ]
  },
  {
   "cell_type": "code",
   "execution_count": 439,
   "metadata": {},
   "outputs": [
    {
     "data": {
      "text/plain": [
       "True"
      ]
     },
     "execution_count": 439,
     "metadata": {},
     "output_type": "execute_result"
    }
   ],
   "source": [
    "# playground cell\n",
    "bg = cv2.imread('Backgrounds/bg_light_table.png')\n",
    "filename = \"1.png\"\n",
    "filepath = 'Documents/' + filename\n",
    "img = cv2.imread(filepath)\n",
    "cv2.imwrite('test.png', make_augmentations(img, bg, bg_coef=0.0))"
   ]
  },
  {
   "cell_type": "code",
   "execution_count": 443,
   "metadata": {},
   "outputs": [],
   "source": [
    "img_file_list = os.listdir('Documents/')\n",
    "bg_file_list = os.listdir('Backgrounds/')\n",
    "\n",
    "for file in img_file_list:\n",
    "    img = cv2.imread('Documents/' + file)\n",
    "    for i in range(10):\n",
    "        bg = cv2.imread('Backgrounds/' + choice(bg_file_list))\n",
    "        \n",
    "        channel_shift_val = 15\n",
    "        rot_angle = int(np.random .uniform(-45, 45))\n",
    "        shift = 500\n",
    "        h_shift = int(np.random.uniform(-shift, shift))\n",
    "        w_shift = int(np.random.uniform(-shift, shift))\n",
    "        blur_shape_val = np.random.randint(1, 10)\n",
    "        img_scale= np.random.randint(30, 60)\n",
    "        bg_scale= 200\n",
    "        bg_coef = np.random.uniform(0, 0.2)\n",
    "\n",
    "        aug_image = make_augmentations(img, bg, img_scale=img_scale, bg_scale=bg_scale, channel_shift_val=channel_shift_val, rot_angle=rot_angle, h_shift=h_shift, w_shift=w_shift, bg_coef=bg_coef)\n",
    "        cv2.imwrite('Result/' + file[:-4]+ '_' + str(i) + '.png', aug_image)"
   ]
  },
  {
   "cell_type": "code",
   "execution_count": null,
   "metadata": {},
   "outputs": [],
   "source": []
  }
 ],
 "metadata": {
  "kernelspec": {
   "display_name": "Python 3",
   "language": "python",
   "name": "python3"
  },
  "language_info": {
   "codemirror_mode": {
    "name": "ipython",
    "version": 3
   },
   "file_extension": ".py",
   "mimetype": "text/x-python",
   "name": "python",
   "nbconvert_exporter": "python",
   "pygments_lexer": "ipython3",
   "version": "3.10.9"
  }
 },
 "nbformat": 4,
 "nbformat_minor": 4
}
